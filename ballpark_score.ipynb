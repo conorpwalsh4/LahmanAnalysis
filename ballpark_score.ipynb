{
 "cells": [
  {
   "cell_type": "code",
   "execution_count": null,
   "metadata": {},
   "outputs": [],
   "source": [
    "import psycopg2 as pg\n",
    "import pandas as pd\n",
    "from queries.db_queries import *\n",
    "from functions.running_avg import *\n",
    "from functions.helper_funcitons import *\n",
    "import numpy as np\n",
    "from numpy.linalg import lstsq\n",
    "import statsmodels.api as sm\n",
    "import matplotlib.pyplot as plt\n",
    "from matplotlib.lines import Line2D\n",
    "#import libraries.libraries"
   ]
  },
  {
   "cell_type": "code",
   "execution_count": 3,
   "metadata": {},
   "outputs": [],
   "source": [
    "# Retrosheet contains data from teams who have moved/renamed. Therefore, some abbreviations differ from Lahman DB. This dict maps them\n",
    "renamed_team = {\n",
    "    'NYN': 'NYM',\n",
    "    'CHA': 'CHI',\n",
    "    'SFN': 'SFG',\n",
    "    'ANA': 'LAA',\n",
    "    'CHN': 'CHC',\n",
    "    'TBA': 'TBR',\n",
    "    'LAN': 'LAD',\n",
    "    'SDN': 'SDP',\n",
    "    'WAS': 'WSN',\n",
    "    'SLN': 'STL',\n",
    "    'KCA': 'KCR',\n",
    "    'NYA': 'NYY',\n",
    "}"
   ]
  },
  {
   "cell_type": "code",
   "execution_count": 4,
   "metadata": {},
   "outputs": [],
   "source": [
    "game_log_column_headers = [\n",
    "    \"Date\",\n",
    "    \"Game Number\",\n",
    "    \"Day of Week\",\n",
    "    \"Visiting Team\",\n",
    "    \"Visiting Team League\",\n",
    "    \"Visiting Team Game Number\",\n",
    "    \"Home Team\",\n",
    "    \"Home Team League\",\n",
    "    \"Home Team Game Number\",\n",
    "    \"Visiting Team Score\",\n",
    "    \"Home Team Score\",\n",
    "    \"Length of Game (Outs)\",\n",
    "    \"Day/Night Indicator\",\n",
    "    \"Park ID\",\n",
    "    \"Attendance\",\n",
    "    \"Time of Game\",\n",
    "    \"Visiting SP\",\n",
    "    \"Home SP\"\n",
    "]"
   ]
  },
  {
   "cell_type": "markdown",
   "metadata": {},
   "source": [
    "Step 1 : Call Funciton to Return all Parks\n",
    "Step 2 : Loop through each park calculating metrics for each\n",
    "Step 3 : Devise way to normalize\n",
    "Step 4 : Compare to Park Factors from Lahman\n",
    "Step 5 :\n",
    "Step 6 : Use New metric to predict player performance"
   ]
  },
  {
   "cell_type": "code",
   "execution_count": 5,
   "metadata": {},
   "outputs": [],
   "source": [
    "team_data = sql_query(curr_teams_query)"
   ]
  },
  {
   "cell_type": "markdown",
   "metadata": {},
   "source": [
    "## Get Game Logs and Rename Abbr."
   ]
  },
  {
   "cell_type": "code",
   "execution_count": 6,
   "metadata": {},
   "outputs": [],
   "source": [
    "log_path_2023 = 'C:/Users/conor/Downloads/gl2023/gl2023.txt'\n",
    "\n",
    "gamelogs_full = pd.read_csv(log_path_2023, header=None)\n",
    "gamelogs = pd.concat([gamelogs_full.iloc[:,:13], gamelogs_full.iloc[:,16:19],gamelogs_full.iloc[:,102], gamelogs_full.iloc[:,104]], axis = 1)\n",
    "gamelogs = gamelogs.set_axis(game_log_column_headers, axis = 1)\n",
    "\n",
    "#Fix Abbreviations\n",
    "gamelogs['Visiting Team'] = gamelogs['Visiting Team'].replace(renamed_team)\n",
    "gamelogs['Home Team'] = gamelogs['Home Team'].replace(renamed_team)\n",
    "\n",
    "running_avg_df = get_running_avg_df(gamelogs_=gamelogs, timeframe=6)"
   ]
  },
  {
   "cell_type": "markdown",
   "metadata": {},
   "source": [
    "Score Game Difficulty for Each Pitcher"
   ]
  },
  {
   "cell_type": "code",
   "execution_count": 8,
   "metadata": {},
   "outputs": [],
   "source": [
    "Difficulty_Score_Home = []\n",
    "Difficulty_Score_Away = []\n",
    "for idx, game in gamelogs.iterrows():\n",
    "    date = game['Date']\n",
    "    home_chllg_run = running_avg_df[(running_avg_df['Date']== date) & (running_avg_df['Visiting Team'] == game['Visiting Team'])]['VTRA_S'].values\n",
    "    home_chllg_overall = running_avg_df[(running_avg_df['Date']== date) & (running_avg_df['Visiting Team'] == game['Visiting Team'])]['VTA_S'].values\n",
    "    Difficulty_Score_Home.append(np.average([home_chllg_run,home_chllg_overall], weights= [2,1], axis=0)[0] if len(home_chllg_overall) > 0 else None)\n",
    "\n",
    "    vis_chllg_run = running_avg_df[(running_avg_df['Date']== date) & (running_avg_df['Home Team'] == game['Home Team'])]['HTRA_S'].values\n",
    "    vis_chllg_overall = running_avg_df[(running_avg_df['Date']== date) & (running_avg_df['Home Team'] == game['Home Team'])]['HTA_S'].values\n",
    "    Difficulty_Score_Away.append(np.average([vis_chllg_run,vis_chllg_overall], weights= [2,1], axis=0)[0] if len(vis_chllg_overall) > 0 else None)"
   ]
  },
  {
   "cell_type": "code",
   "execution_count": 9,
   "metadata": {},
   "outputs": [],
   "source": [
    "gamelogs['Home Challenge'] = Difficulty_Score_Home\n",
    "gamelogs['Visiting Challenge'] = Difficulty_Score_Away"
   ]
  },
  {
   "cell_type": "code",
   "execution_count": null,
   "metadata": {},
   "outputs": [],
   "source": []
  },
  {
   "cell_type": "code",
   "execution_count": 12,
   "metadata": {},
   "outputs": [],
   "source": [
    "phils = gamelogs[(gamelogs['Visiting Team'] == 'PHI') | (gamelogs['Home Team'] == 'PHI')]\n",
    "phils = phils.reset_index(drop=True)\n",
    "\n",
    "phils['Outcome'] = np.where(\n",
    "    (phils['Home Team'] == 'PHI') & (phils['Home Team Score'] > phils['Visiting Team Score']) | \n",
    "    (phils['Visiting Team'] == 'PHI') & (phils['Visiting Team Score'] > phils['Home Team Score']),\n",
    "    'win', \n",
    "    'loss'\n",
    ")\n",
    "phils['Opponent'] = np.where( (phils['Home Team'] == 'PHI'), phils['Visiting Team'],phils['Home Team'])\n",
    "colors = np.where(phils['Outcome'] == 'win', 'green', 'red').tolist()[6:]\n",
    "\n",
    "phils['Challenge Score'] = np.where(phils['Home Team'] == 'PHI', phils['Home Challenge'], phils['Visiting Challenge'])"
   ]
  },
  {
   "cell_type": "code",
   "execution_count": null,
   "metadata": {},
   "outputs": [],
   "source": [
    "plt.figure(figsize=(10, 6))\n",
    "scatter = plt.scatter(phils['Challenge Score'][phils.index >= 6].index, phils['Challenge Score'][phils.index >= 6], c=colors, marker='o', edgecolor='black', s=40, cmap='coolwarm')\n",
    "plt.title('Phillies Game Difficulty', fontsize=20, fontweight='bold')\n",
    "plt.xlabel('Game Index', fontsize=14,fontweight='bold')\n",
    "plt.ylabel('Score', fontsize=14,fontweight='bold')\n",
    "plt.xticks(fontsize=12)\n",
    "plt.yticks(fontsize=12)\n",
    "\n",
    "# Adding a color legend\n",
    "legend_elements = [Line2D([0], [0], marker='o', color='w', label='Win', markerfacecolor='green', markersize=10),\n",
    "                   Line2D([0], [0], marker='o', color='w', label='Loss', markerfacecolor='red', markersize=10)]\n",
    "plt.legend(handles=legend_elements, loc='upper right')\n",
    "\n",
    "# Adding grid lines for better readability\n",
    "plt.grid(True, linestyle='--', alpha=0.3)\n",
    "\n",
    "# Adding mean line for reference\n",
    "mean = phils['Challenge Score'].mean()\n",
    "plt.axhline(mean, color='gray', linestyle='dashed', linewidth=1)\n",
    "plt.text(25, mean + 0.12, f'Mean: {mean:.2f}', color='gray', ha='right')\n",
    "\n",
    "temp_df = avoid_overlap(phils[((phils['Challenge Score'] > 6.75)|(phils['Challenge Score'] < 2.75) ) & (phils.index >= 6)])\n",
    "for i, row in temp_df.iterrows():\n",
    "    if row['Home Team'] == 'PHI':\n",
    "        plt.text(\n",
    "            x=i - 8,\n",
    "            y=row['Challenge Score'] + 0.1,\n",
    "            s=row['Home SP'],\n",
    "            ha='left',\n",
    "            weight='bold',\n",
    "            fontsize=6\n",
    "        )\n",
    "    elif row[\"Visiting Team\"] == 'PHI':\n",
    "          plt.text(\n",
    "            x=i - 8,\n",
    "            y=row['Challenge Score'] + 0.1,\n",
    "            s=row['Visiting SP'],\n",
    "            ha='left',\n",
    "            weight='bold',\n",
    "            fontsize=6\n",
    "        ) "
   ]
  },
  {
   "cell_type": "code",
   "execution_count": 96,
   "metadata": {},
   "outputs": [],
   "source": [
    "q1 = phils['Challenge Score'].quantile(0.25)\n",
    "q3 = phils['Challenge Score'].quantile(0.75)\n",
    "iqr = q3 - q1\n",
    "tough_games = phils[(phils['Challenge Score'] >= q3 + 1.5*iqr) & (phils.index >= 6)]\n",
    "easy_games = phils[(phils['Challenge Score'] <= q1 - 1.5*iqr) & (phils.index >= 6)]"
   ]
  },
  {
   "cell_type": "code",
   "execution_count": 14,
   "metadata": {},
   "outputs": [],
   "source": [
    "score_std = np.std(phils['Challenge Score'][(phils.index >= 6)])\n",
    "tough_games = phils[(phils['Challenge Score'] >= mean + 2*score_std) & (phils.index >= 6)]\n",
    "easy_games = phils[(phils['Challenge Score'] <= mean - 2*score_std) & (phils.index >= 6)]\n",
    "outlier_games = pd.concat([easy_games, tough_games])"
   ]
  },
  {
   "cell_type": "code",
   "execution_count": null,
   "metadata": {},
   "outputs": [],
   "source": [
    "plt.hist(outlier_games['Challenge Score'][(phils.index >= 6) & (phils['Outcome']== 'loss')], edgecolor='black', alpha = 0.65, color='red')\n",
    "plt.hist(outlier_games['Challenge Score'][(phils.index >= 6) & (phils['Outcome']== 'win')], edgecolor='black', alpha = 0.8, color='green')"
   ]
  },
  {
   "cell_type": "code",
   "execution_count": 16,
   "metadata": {},
   "outputs": [
    {
     "data": {
      "text/plain": [
       "Text(2.2912896069728106, 17.766, 'Mean Win Score: 4.49')"
      ]
     },
     "execution_count": 16,
     "metadata": {},
     "output_type": "execute_result"
    },
    {
     "data": {
      "image/png": "[encoded data removed]",
      "text/plain": [
       "<Figure size 640x480 with 1 Axes>"
      ]
     },
     "metadata": {},
     "output_type": "display_data"
    }
   ],
   "source": [
    "plt.hist(phils['Challenge Score'][(phils.index >= 6) & (phils['Outcome']== 'loss')], edgecolor='black', alpha = 0.65, color='red', label='losses')\n",
    "plt.hist(phils['Challenge Score'][(phils.index >= 6) & (phils['Outcome']== 'win')], edgecolor='black', alpha = 0.8, color='green', label = 'wins')\n",
    "plt.xlabel('Score', fontsize=14,fontweight='bold')\n",
    "plt.ylabel('Frequency', fontsize=14,fontweight='bold')\n",
    "#plt.title('Score Histogram', fontsize=16,fontweight='bold')\n",
    "plt.xticks(fontsize=12)\n",
    "plt.yticks(fontsize=12)\n",
    "plt.grid(True, linestyle='--', alpha=0.3)\n",
    "plt.legend(loc='center right')\n",
    "loss_mean = np.mean(phils['Challenge Score'][(phils.index >= 6) & (phils['Outcome']== 'loss')])\n",
    "win_mean = np.mean(phils['Challenge Score'][(phils.index >= 6) & (phils['Outcome']== 'win')])\n",
    "\n",
    "# Add mean line\n",
    "plt.axvline(loss_mean, color='red', linestyle='dashed', linewidth=1)\n",
    "plt.text(loss_mean + 0.2, plt.ylim()[1]*0.94, f'Mean Loss Score: {loss_mean:.2f}', color='red')\n",
    "plt.axvline(win_mean, color='green', linestyle='dashed', linewidth=1)\n",
    "plt.text(win_mean - 2.2, plt.ylim()[1]*0.94, f'Mean Win Score: {win_mean:.2f}', color='green')"
   ]
  },
  {
   "cell_type": "code",
   "execution_count": 17,
   "metadata": {},
   "outputs": [],
   "source": [
    "phils_pitchers = sql_query(Phils_SP_query)"
   ]
  },
  {
   "cell_type": "code",
   "execution_count": null,
   "metadata": {},
   "outputs": [],
   "source": [
    "gamelogs.reset_index(drop=True, inplace=True)\n",
    "\n",
    "num_feats = 3\n",
    "num_teams = len(pd.unique(gamelogs[['Home Team', 'Visiting Team']].values.ravel()))\n",
    "A = np.zeros((162*30,num_teams*num_feats))\n",
    "b = np.zeros((162*30,1))\n",
    "\n",
    "team_data = team_data.sort_values(by ='Team')\n",
    "team_data.reset_index(drop=True, inplace=True)"
   ]
  },
  {
   "cell_type": "markdown",
   "metadata": {},
   "source": [
    "Determine A, b and weights for Weighted Least Squares Regression"
   ]
  },
  {
   "cell_type": "code",
   "execution_count": null,
   "metadata": {},
   "outputs": [],
   "source": [
    "idx = 0\n",
    "weights = []\n",
    "# Group by 'Home Team' and 'Visiting Team' to calculate the occurrence of each matchup\n",
    "matchup_counts = gamelogs.groupby(['Home Team', 'Visiting Team']).size().reset_index(name='Count')\n",
    "\n",
    "# Iterate over the grouped matchups\n",
    "for (home_team, visiting_team), group in gamelogs.groupby(['Home Team', 'Visiting Team']):\n",
    "    home_team_idx = team_data.index[team_data['Team'] == home_team]\n",
    "    visiting_team_idx = team_data.index[team_data['Team'] == visiting_team]\n",
    "    \n",
    "    for _, row in group.iterrows():\n",
    "        # Set offensive team factor\n",
    "        A[idx, home_team_idx * num_feats] = 1\n",
    "        A[idx + 1, visiting_team_idx * num_feats] = 1\n",
    "\n",
    "        # Set defensive team factor\n",
    "        A[idx, visiting_team_idx * num_feats + 1] = 1\n",
    "        A[idx + 1, home_team_idx * num_feats + 1] = 1\n",
    "\n",
    "        # Set park factor (assuming a specific column index for park factors)\n",
    "        A[idx, home_team_idx * num_feats + 2] = 1  # Adjust this index if park factors are in a different column\n",
    "        A[idx + 1, home_team_idx * num_feats + 2] = 1\n",
    "\n",
    "        b[idx] = row['Home Team Score']\n",
    "        b[idx + 1] = row['Visiting Team Score']\n",
    "        \n",
    "        idx += 2\n",
    "        \n",
    "        weights.append(len(group))\n",
    "        weights.append(len(group))\n",
    "\n",
    "weights = np.array(weights)"
   ]
  },
  {
   "cell_type": "markdown",
   "metadata": {},
   "source": [
    "Determine Weighted PF"
   ]
  },
  {
   "cell_type": "code",
   "execution_count": null,
   "metadata": {},
   "outputs": [],
   "source": [
    "# Add a constant term to the predictors\n",
    "X = sm.add_constant(A)\n",
    "\n",
    "# Fit the WLS model\n",
    "wls_model = sm.WLS(b, X, weights=weights).fit()\n",
    "beta = wls_model.params \n",
    "# Print the summary of the model\n",
    "#print(wls_model.summary())"
   ]
  },
  {
   "cell_type": "code",
   "execution_count": null,
   "metadata": {},
   "outputs": [],
   "source": [
    "# Extract every third coefficient starting from the first coefficient\n",
    "coefficients = beta[1:]\n",
    "constant = coefficients[0]\n",
    "\n",
    "park_factors = []\n",
    "\n",
    "# Populate the park factor scores\n",
    "for team in team_data['Team']:\n",
    "    park_factor = coefficients[team_data.index[team_data['Team'] == team][0] * num_feats + 2]\n",
    "    park_factors.append(park_factor)\n",
    "\n",
    "# Create a new DataFrame with teams and their corresponding park factor scores\n",
    "df_park_factors = pd.DataFrame({\n",
    "    'Team': team_data['Team'],\n",
    "    'ParkFactor': park_factors\n",
    "}).sort_values(by='ParkFactor', ascending= False)\n",
    "\n",
    "df_park_factors.reset_index(inplace=True, drop=True)\n",
    "df_park_factors['NormPF'] = min_max_norm(df_park_factors,'ParkFactor')\n",
    "print('Weighted Park Factors')\n",
    "print(round(df_park_factors.sort_values(by='ParkFactor', ascending= False).head(),3))\n"
   ]
  },
  {
   "cell_type": "markdown",
   "metadata": {},
   "source": [
    "Read in Baseball Savant's Park Factor Data"
   ]
  },
  {
   "cell_type": "code",
   "execution_count": null,
   "metadata": {},
   "outputs": [],
   "source": [
    "SavantPF = pd.read_csv('C:/Users/conor/Downloads/BaseballSavantPF2023.csv')\n",
    "SavantPF['NormPF_Savant'] = min_max_norm(SavantPF,'Park Factor')"
   ]
  },
  {
   "cell_type": "code",
   "execution_count": null,
   "metadata": {},
   "outputs": [],
   "source": [
    "JoinPFs = pd.merge(df_park_factors, SavantPF, on='Team')\n",
    "JoinPFs = JoinPFs.drop(columns=['Rank'])\n",
    "JoinPFs['Diff'] = (abs(JoinPFs['NormPF'] - JoinPFs['NormPF_Savant'])*100).round(3)"
   ]
  },
  {
   "cell_type": "code",
   "execution_count": null,
   "metadata": {},
   "outputs": [],
   "source": [
    "JoinPFs.sort_values(by='ParkFactor', ascending=False)"
   ]
  }
 ],
 "metadata": {
  "kernelspec": {
   "display_name": "base",
   "language": "python",
   "name": "python3"
  },
  "language_info": {
   "codemirror_mode": {
    "name": "ipython",
    "version": 3
   },
   "file_extension": ".py",
   "mimetype": "text/x-python",
   "name": "python",
   "nbconvert_exporter": "python",
   "pygments_lexer": "ipython3",
   "version": "3.11.5"
  }
 },
 "nbformat": 4,
 "nbformat_minor": 2
}

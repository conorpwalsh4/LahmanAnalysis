{
 "cells": [
  {
   "cell_type": "markdown",
   "metadata": {},
   "source": [
    "Import Relevant Libraries, Repo Functions/Definitions"
   ]
  },
  {
   "cell_type": "code",
   "execution_count": 1,
   "metadata": {},
   "outputs": [],
   "source": [
    "import psycopg2 as pg\n",
    "import pandas as pd\n",
    "import numpy as np\n",
    "from numpy.linalg import lstsq\n",
    "import statsmodels.api as sm\n",
    "import matplotlib.pyplot as plt\n",
    "from matplotlib.lines import Line2D\n",
    "import seaborn as sns\n",
    "import tensorflow as tf\n",
    "from sklearn.model_selection import train_test_split\n",
    "import random\n",
    "\n",
    "# From Repo\n",
    "from queries.db_queries import *\n",
    "from functions.running_avg import *\n",
    "from functions.helper_functions import *\n",
    "from configs.definitions import *"
   ]
  },
  {
   "cell_type": "markdown",
   "metadata": {},
   "source": [
    "Get Data: Team's W/L records, Box Scores"
   ]
  },
  {
   "cell_type": "code",
   "execution_count": 2,
   "metadata": {},
   "outputs": [],
   "source": [
    "current_teams = sql_query(curr_teams_query)"
   ]
  },
  {
   "cell_type": "code",
   "execution_count": 3,
   "metadata": {},
   "outputs": [],
   "source": [
    "log_path_2023 = 'C:/Users/conor/Downloads/gl2023/gl2023.txt'\n",
    "log_path_2022 = 'C:/Users/conor/Downloads/gl2022/gl2022.txt'\n",
    "\n",
    "gamelogs_2022 = pd.read_csv(log_path_2022, header=None)\n",
    "gamelogs_2023 = pd.read_csv(log_path_2023, header=None)\n",
    "gamelogs_2022_2023 = pd.concat([gamelogs_2022, gamelogs_2023])\n",
    "gamelogs = pd.concat([gamelogs_2022_2023.iloc[:,:13], gamelogs_2022_2023.iloc[:,16:19],gamelogs_2022_2023.iloc[:,102], gamelogs_2022_2023.iloc[:,104]], axis = 1)\n",
    "gamelogs = gamelogs.set_axis(game_log_column_headers, axis = 1)\n",
    "\n",
    "#Fix Abbreviations\n",
    "gamelogs['Visiting Team'] = gamelogs['Visiting Team'].replace(renamed_team)\n",
    "gamelogs['Home Team'] = gamelogs['Home Team'].replace(renamed_team)\n",
    "\n",
    "time_window=6 #6 Games for running avergage calculations\n",
    "running_avg_df = get_running_avg(gamelogs_=gamelogs, timeframe=time_window)"
   ]
  },
  {
   "cell_type": "markdown",
   "metadata": {},
   "source": [
    "Assess a \"Difficulty Score\" for each game from the Starting Pitcher's persepctive, based on opponents ability to score runs (overall and as of late)"
   ]
  },
  {
   "cell_type": "code",
   "execution_count": 4,
   "metadata": {},
   "outputs": [],
   "source": [
    "Difficulty_Score_Home = []\n",
    "Difficulty_Score_Away = []\n",
    "for idx, game in gamelogs.iterrows(): #Loop through the boxscores\n",
    "    date = game['Date']\n",
    "    home_chllg_run = running_avg_df[(running_avg_df['Date']== date) & (running_avg_df['Visiting Team'] == game['Visiting Team'])]['VTRA_S'].values\n",
    "    home_chllg_overall = running_avg_df[(running_avg_df['Date']== date) & (running_avg_df['Visiting Team'] == game['Visiting Team'])]['VTA_S'].values\n",
    "    Difficulty_Score_Home.append(np.average([home_chllg_run,home_chllg_overall], weights= [2,1], axis=0)[0] if len(home_chllg_overall) > 0 else None)\n",
    "\n",
    "    vis_chllg_run = running_avg_df[(running_avg_df['Date']== date) & (running_avg_df['Home Team'] == game['Home Team'])]['HTRA_S'].values\n",
    "    vis_chllg_overall = running_avg_df[(running_avg_df['Date']== date) & (running_avg_df['Home Team'] == game['Home Team'])]['HTA_S'].values\n",
    "    Difficulty_Score_Away.append(np.average([vis_chllg_run,vis_chllg_overall], weights= [2,1], axis=0)[0] if len(vis_chllg_overall) > 0 else None)\n",
    "\n",
    "gamelogs['Home Challenge'] = Difficulty_Score_Home\n",
    "gamelogs['Visiting Challenge'] = Difficulty_Score_Away"
   ]
  },
  {
   "cell_type": "markdown",
   "metadata": {},
   "source": [
    "Use Philadelphia Phillies to Explore visulaizations of this metric"
   ]
  },
  {
   "cell_type": "code",
   "execution_count": 5,
   "metadata": {},
   "outputs": [],
   "source": [
    "phils = gamelogs[(gamelogs['Visiting Team'] == 'PHI') | (gamelogs['Home Team'] == 'PHI')]\n",
    "phils = phils.reset_index(drop=True)\n",
    "for idx, game in phils.iterrows(): #Remove first 5 games of each season\n",
    "    if game['Visiting Team'] == 'PHI':\n",
    "        if game['Visiting Team Game Number'] < time_window:\n",
    "            phils = phils.drop(index = idx)\n",
    "    else:\n",
    "         if game['Home Team Game Number'] < time_window:\n",
    "            phils = phils.drop(index = idx)       \n",
    "\n",
    "phils = phils.reset_index(drop=True)\n",
    "\n",
    "phils['Outcome'] = np.where(\n",
    "    (phils['Home Team'] == 'PHI') & (phils['Home Team Score'] > phils['Visiting Team Score']) | \n",
    "    (phils['Visiting Team'] == 'PHI') & (phils['Visiting Team Score'] > phils['Home Team Score']),\n",
    "    'win', \n",
    "    'loss'\n",
    ")\n",
    "phils['Opponent'] = np.where( (phils['Home Team'] == 'PHI'), phils['Visiting Team'],phils['Home Team'])\n",
    "colors = np.where(phils['Outcome'] == 'win', 'green', 'red').tolist() # \n",
    "\n",
    "phils['Challenge Score'] = np.where(phils['Home Team'] == 'PHI', phils['Home Challenge'], phils['Visiting Challenge'])"
   ]
  },
  {
   "cell_type": "code",
   "execution_count": null,
   "metadata": {},
   "outputs": [],
   "source": [
    "plt.figure(figsize=(10, 6))\n",
    "scatter = plt.scatter(phils['Challenge Score'].index, phils['Challenge Score'], c=colors, marker='o', edgecolor='black', s=40, cmap='coolwarm')\n",
    "plt.title('Phillies Game Difficulty', fontsize=20, fontweight='bold')\n",
    "plt.xlabel('Game Index', fontsize=14,fontweight='bold')\n",
    "plt.ylabel('Score', fontsize=14,fontweight='bold')\n",
    "plt.xticks(fontsize=12)\n",
    "plt.yticks(fontsize=12)\n",
    "\n",
    "# Adding a color legend\n",
    "legend_elements = [Line2D([0], [0], marker='o', color='w', label='Win', markerfacecolor='green', markersize=10),\n",
    "                   Line2D([0], [0], marker='o', color='w', label='Loss', markerfacecolor='red', markersize=10)]\n",
    "plt.legend(handles=legend_elements, loc='upper right')\n",
    "\n",
    "# Adding grid lines for better readability\n",
    "plt.grid(True, linestyle='--', alpha=0.3)\n",
    "\n",
    "# Adding mean line for reference\n",
    "mean = phils['Challenge Score'].mean()\n",
    "plt.axhline(mean, color='gray', linestyle='dashed', linewidth=1)\n",
    "plt.text(25, mean + 0.12, f'Mean: {mean:.2f}', color='gray', ha='right')\n",
    "\n",
    "temp_df = avoid_overlap(phils[((phils['Challenge Score'] > 6.75)|(phils['Challenge Score'] < 2.75) )])\n",
    "for i, row in temp_df.iterrows():\n",
    "    if row['Home Team'] == 'PHI':\n",
    "        plt.text(\n",
    "            x=i - 8,\n",
    "            y=row['Challenge Score'] + 0.1,\n",
    "            s=row['Home SP'],\n",
    "            ha='left',\n",
    "            weight='bold',\n",
    "            fontsize=6\n",
    "        )\n",
    "    elif row[\"Visiting Team\"] == 'PHI':\n",
    "          plt.text(\n",
    "            x=i - 8,\n",
    "            y=row['Challenge Score'] + 0.1,\n",
    "            s=row['Visiting SP'],\n",
    "            ha='left',\n",
    "            weight='bold',\n",
    "            fontsize=6\n",
    "        ) "
   ]
  },
  {
   "cell_type": "code",
   "execution_count": 8,
   "metadata": {},
   "outputs": [
    {
     "data": {
      "text/plain": [
       "Text(0.5, 1.0, '2022/2023 Phillies Season')"
      ]
     },
     "execution_count": 8,
     "metadata": {},
     "output_type": "execute_result"
    },
    {
     "data": {
      "image/png": "[encoded data removed]",
      "text/plain": [
       "<Figure size 640x480 with 1 Axes>"
      ]
     },
     "metadata": {},
     "output_type": "display_data"
    }
   ],
   "source": [
    "plt.hist(phils['Challenge Score'][ (phils['Outcome']== 'loss')], edgecolor='black', alpha = 0.65, color='red', label='losses')\n",
    "plt.hist(phils['Challenge Score'][ (phils['Outcome']== 'win')], edgecolor='black', alpha = 0.8, color='green', label = 'wins')\n",
    "plt.xlabel('Score', fontsize=12,fontweight='bold')\n",
    "plt.ylabel('Frequency', fontsize=12,fontweight='bold')\n",
    "#plt.title('Score Histogram', fontsize=16,fontweight='bold')\n",
    "plt.xticks(fontsize=12)\n",
    "plt.yticks(fontsize=12)\n",
    "plt.grid(True, linestyle='--', alpha=0.3)\n",
    "plt.legend(loc='center right')\n",
    "loss_mean = np.mean(phils['Challenge Score'][ (phils['Outcome']== 'loss')])\n",
    "win_mean = np.mean(phils['Challenge Score'][(phils['Outcome']== 'win')])\n",
    "\n",
    "# Add mean line\n",
    "plt.axvline(loss_mean, color='red', linestyle='dashed', linewidth=1)\n",
    "plt.text(loss_mean + 0.2, plt.ylim()[1]*0.94, f'Mean Loss Score: {loss_mean:.2f}', color='red')\n",
    "plt.axvline(win_mean, color='green', linestyle='dashed', linewidth=1)\n",
    "plt.text(win_mean - 2.2, plt.ylim()[1]*0.94, f'Mean Win Score: {win_mean:.2f}', color='green')\n",
    "plt.title('2022/2023 Phillies Season', fontweight='bold', fontsize=14)"
   ]
  },
  {
   "cell_type": "markdown",
   "metadata": {},
   "source": [
    "Assess IQR Outlier Analysis"
   ]
  },
  {
   "cell_type": "code",
   "execution_count": 9,
   "metadata": {},
   "outputs": [],
   "source": [
    "q1 = phils['Challenge Score'].quantile(0.25)\n",
    "q3 = phils['Challenge Score'].quantile(0.75)\n",
    "iqr = q3 - q1\n",
    "tough_games = phils[(phils['Challenge Score'] >= q3 + 1.5*iqr) ]\n",
    "easy_games = phils[(phils['Challenge Score'] <= q1 - 1.5*iqr) ]"
   ]
  },
  {
   "cell_type": "code",
   "execution_count": 10,
   "metadata": {},
   "outputs": [],
   "source": [
    "score_std = np.std(phils['Challenge Score'])\n",
    "tough_games = phils[(phils['Challenge Score'] >= mean + 2*score_std)]\n",
    "easy_games = phils[(phils['Challenge Score'] <= mean - 2*score_std)]\n",
    "outlier_games = pd.concat([easy_games, tough_games])"
   ]
  },
  {
   "cell_type": "markdown",
   "metadata": {},
   "source": [
    "Determine A, b and weights for Weighted Least Squares Regression"
   ]
  },
  {
   "cell_type": "code",
   "execution_count": 6,
   "metadata": {},
   "outputs": [],
   "source": [
    "gamelogs.reset_index(drop=True, inplace=True)\n",
    "\n",
    "num_feats = 3\n",
    "num_teams = len(pd.unique(gamelogs[['Home Team', 'Visiting Team']].values.ravel()))\n",
    "A = np.zeros((162*num_teams*2,num_teams*num_feats)) #162 games, 2 seasons\n",
    "b = np.zeros((162*num_teams*2,1))\n",
    "\n",
    "current_teams = current_teams.sort_values(by =['yearid','Team'])\n",
    "current_teams.reset_index(drop=True, inplace=True)"
   ]
  },
  {
   "cell_type": "code",
   "execution_count": 7,
   "metadata": {},
   "outputs": [],
   "source": [
    "idx = 0\n",
    "weights = []\n",
    "# Group by 'Home Team' and 'Visiting Team' to calculate the occurrence of each matchup\n",
    "matchup_counts = gamelogs.groupby(['Home Team', 'Visiting Team']).size().reset_index(name='Count')\n",
    "\n",
    "# Iterate over the grouped matchups\n",
    "for (home_team, visiting_team), group in gamelogs.groupby(['Home Team', 'Visiting Team']):\n",
    "    home_team_idx = current_teams.index[(current_teams['Team'] == home_team) & (current_teams['yearid'] == 2022)] #Year Doesn't matter, pick one as long as it exists in df\n",
    "    visiting_team_idx = current_teams.index[(current_teams['Team'] == visiting_team) & (current_teams['yearid'] == 2022)]\n",
    "    \n",
    "    for _, row in group.iterrows():\n",
    "        # Set offensive team factor\n",
    "        A[idx, home_team_idx * num_feats] = 1\n",
    "        A[idx + 1, visiting_team_idx * num_feats] = 1\n",
    "\n",
    "        # Set defensive team factor\n",
    "        A[idx, visiting_team_idx * num_feats + 1] = 1\n",
    "        A[idx + 1, home_team_idx * num_feats + 1] = 1\n",
    "\n",
    "        # Set park factor (assuming a specific column index for park factors)\n",
    "        A[idx, home_team_idx * num_feats + 2] = 1  # Adjust this index if park factors are in a different column\n",
    "        A[idx + 1, home_team_idx * num_feats + 2] = 1\n",
    "\n",
    "        b[idx] = row['Home Team Score']\n",
    "        b[idx + 1] = row['Visiting Team Score']\n",
    "        \n",
    "        idx += 2\n",
    "        \n",
    "        weights.append(len(group))\n",
    "        weights.append(len(group))\n",
    "\n",
    "weights = np.array(weights)"
   ]
  },
  {
   "cell_type": "markdown",
   "metadata": {},
   "source": [
    "Determine Weighted PF"
   ]
  },
  {
   "cell_type": "code",
   "execution_count": 8,
   "metadata": {},
   "outputs": [],
   "source": [
    "# Add a constant term to the predictors\n",
    "X = sm.add_constant(A)\n",
    "\n",
    "# Fit the WLS model\n",
    "wls_model = sm.WLS(b, X, weights=weights).fit()\n",
    "beta = wls_model.params \n",
    "# Print the summary of the model\n",
    "#print(wls_model.summary())"
   ]
  },
  {
   "cell_type": "code",
   "execution_count": 9,
   "metadata": {},
   "outputs": [
    {
     "name": "stdout",
     "output_type": "stream",
     "text": [
      "Weighted Park Factors\n",
      "  Team  ParkFactor  NormPF\n",
      "0  COL       1.204   1.000\n",
      "1  BOS       0.399   0.617\n",
      "2  TEX       0.202   0.524\n",
      "3  CIN       0.133   0.492\n",
      "4  DET       0.021   0.438\n"
     ]
    }
   ],
   "source": [
    "# Extract every third coefficient starting from the first coefficient\n",
    "coefficients = beta[1:]\n",
    "constant = coefficients[0]\n",
    "\n",
    "park_factors = []\n",
    "\n",
    "# Populate the park factor scores\n",
    "for team in current_teams['Team'][0:30]:\n",
    "    park_factor = coefficients[current_teams.index[current_teams['Team'] == team][0] * num_feats + 2]\n",
    "    park_factors.append(park_factor)\n",
    "\n",
    "# Create a new DataFrame with teams and their corresponding park factor scores\n",
    "df_park_factors = pd.DataFrame({\n",
    "    'Team': current_teams['Team'][0:30],\n",
    "    'ParkFactor': park_factors\n",
    "}).sort_values(by='ParkFactor', ascending= False)\n",
    "\n",
    "df_park_factors.reset_index(inplace=True, drop=True)\n",
    "df_park_factors['NormPF'] = min_max_norm(df_park_factors,'ParkFactor')\n",
    "print('Weighted Park Factors')\n",
    "print(round(df_park_factors.sort_values(by='ParkFactor', ascending= False).head(),3))\n"
   ]
  },
  {
   "cell_type": "markdown",
   "metadata": {},
   "source": [
    "Read in Baseball Savant's Park Factor Data"
   ]
  },
  {
   "cell_type": "code",
   "execution_count": 19,
   "metadata": {},
   "outputs": [],
   "source": [
    "SavantPF = pd.read_csv('C:/Users/conor/Downloads/BaseballSavantPF2023.csv')\n",
    "SavantPF['NormPF_Savant'] = min_max_norm(SavantPF,'Park Factor')"
   ]
  },
  {
   "cell_type": "code",
   "execution_count": 20,
   "metadata": {},
   "outputs": [],
   "source": [
    "JoinPFs = pd.merge(df_park_factors, SavantPF, on='Team')\n",
    "JoinPFs = JoinPFs.drop(columns=['Rank'])\n",
    "JoinPFs['Diff'] = (abs(JoinPFs['NormPF'] - JoinPFs['NormPF_Savant'])*100).round(3)"
   ]
  },
  {
   "cell_type": "code",
   "execution_count": 18,
   "metadata": {},
   "outputs": [
    {
     "data": {
      "application/vnd.microsoft.datawrangler.viewer.v0+json": {
       "columns": [
        {
         "name": "index",
         "rawType": "int64",
         "type": "integer"
        },
        {
         "name": "Team",
         "rawType": "object",
         "type": "string"
        },
        {
         "name": "ParkFactor",
         "rawType": "float64",
         "type": "float"
        },
        {
         "name": "NormPF",
         "rawType": "float64",
         "type": "float"
        },
        {
         "name": "Park Factor",
         "rawType": "int64",
         "type": "integer"
        },
        {
         "name": "NormPF_Savant",
         "rawType": "float64",
         "type": "float"
        },
        {
         "name": "Diff",
         "rawType": "float64",
         "type": "float"
        }
       ],
       "conversionMethod": "pd.DataFrame",
       "ref": "337bc9ed-b3ed-408e-82ff-32354e2ca672",
       "rows": [
        [
         "6",
         "KCR",
         "-0.011559606551490353",
         "0.4227481328459186",
         "106",
         "0.6499999675000016",
         "22.725"
        ],
        [
         "15",
         "ATL",
         "-0.2534308649493725",
         "0.3079285853581904",
         "103",
         "0.4999999750000012",
         "19.207"
        ],
        [
         "13",
         "WSN",
         "-0.21357830275943904",
         "0.32684713395790604",
         "103",
         "0.4999999750000012",
         "17.315"
        ],
        [
         "23",
         "HOU",
         "-0.5284907427876289",
         "0.17735395274324336",
         "100",
         "0.34999998250000086",
         "17.265"
        ],
        [
         "8",
         "PIT",
         "-0.04392778685109214",
         "0.4073825212407242",
         "98",
         "0.2499999875000006",
         "15.738"
        ],
        [
         "12",
         "STL",
         "-0.17088721295305714",
         "0.3471131698887368",
         "103",
         "0.4999999750000012",
         "15.289"
        ],
        [
         "29",
         "BAL",
         "-0.9020928399081698",
         "0.0",
         "96",
         "0.14999999250000037",
         "15.0"
        ],
        [
         "4",
         "DET",
         "0.02104730393253379",
         "0.4382270728884338",
         "99",
         "0.29999998500000075",
         "13.823"
        ],
        [
         "22",
         "CLE",
         "-0.5176170966370992",
         "0.18251581917919532",
         "94",
         "0.04999999750000012",
         "13.252"
        ],
        [
         "1",
         "BOS",
         "0.39866220538530456",
         "0.6174859579524306",
         "108",
         "0.7499999625000018",
         "13.251"
        ],
        [
         "5",
         "CHW",
         "7.113795027636346e-16",
         "0.42823563393294317",
         "99",
         "0.29999998500000075",
         "12.824"
        ],
        [
         "2",
         "TEX",
         "0.20168230409649376",
         "0.5239769429501062",
         "106",
         "0.6499999675000016",
         "12.602"
        ],
        [
         "24",
         "TBR",
         "-0.5325301041315532",
         "0.175436413450973",
         "98",
         "0.2499999875000006",
         "7.456"
        ],
        [
         "27",
         "OAK",
         "-0.7416716812215642",
         "0.076154086971147",
         "96",
         "0.14999999250000037",
         "7.385"
        ],
        [
         "9",
         "PHI",
         "-0.13228555722440205",
         "0.3654378963254355",
         "99",
         "0.29999998500000075",
         "6.544"
        ],
        [
         "19",
         "ARI",
         "-0.38858170377480605",
         "0.24377065994236496",
         "99",
         "0.29999998500000075",
         "5.623"
        ],
        [
         "26",
         "SFG",
         "-0.6833258903671924",
         "0.10385162056024445",
         "94",
         "0.04999999750000012",
         "5.385"
        ],
        [
         "16",
         "MIN",
         "-0.2770620105342781",
         "0.2967105619326372",
         "100",
         "0.34999998250000086",
         "5.329"
        ],
        [
         "10",
         "MIA",
         "-0.14975793736288773",
         "0.35714352189532317",
         "101",
         "0.399999980000001",
         "4.286"
        ],
        [
         "3",
         "CIN",
         "0.13332154019218118",
         "0.4915251666233109",
         "102",
         "0.4499999775000011",
         "4.153"
        ],
        [
         "28",
         "SEA",
         "-0.815803765658688",
         "0.040962586973282304",
         "93",
         "0.0",
         "4.096"
        ],
        [
         "18",
         "MIL",
         "-0.3184136090800537",
         "0.2770804005634444",
         "98",
         "0.2499999875000006",
         "2.708"
        ],
        [
         "17",
         "LAD",
         "-0.3173250218695941",
         "0.2775971675895632",
         "99",
         "0.29999998500000075",
         "2.24"
        ],
        [
         "7",
         "CHC",
         "-0.01660546625189374",
         "0.42035279521330987",
         "101",
         "0.399999980000001",
         "2.035"
        ],
        [
         "21",
         "NYM",
         "-0.5133574243332547",
         "0.18453794305457066",
         "97",
         "0.1999999900000005",
         "1.546"
        ],
        [
         "14",
         "NYY",
         "-0.24248851862314663",
         "0.313123064693823",
         "99",
         "0.29999998500000075",
         "1.312"
        ],
        [
         "25",
         "SDP",
         "-0.6134095059879422",
         "0.1370418709007697",
         "96",
         "0.14999999250000037",
         "1.296"
        ],
        [
         "20",
         "TOR",
         "-0.4754295578919824",
         "0.20254281263191443",
         "97",
         "0.1999999900000005",
         "0.254"
        ],
        [
         "11",
         "LAA",
         "-0.16330894711555488",
         "0.35071067485880786",
         "100",
         "0.34999998250000086",
         "0.071"
        ],
        [
         "0",
         "COL",
         "1.2044399663127012",
         "0.999999525286517",
         "113",
         "0.9999999500000024",
         "0.0"
        ]
       ],
       "shape": {
        "columns": 6,
        "rows": 30
       }
      },
      "text/html": [
       "<div>\n",
       "<style scoped>\n",
       "    .dataframe tbody tr th:only-of-type {\n",
       "        vertical-align: middle;\n",
       "    }\n",
       "\n",
       "    .dataframe tbody tr th {\n",
       "        vertical-align: top;\n",
       "    }\n",
       "\n",
       "    .dataframe thead th {\n",
       "        text-align: right;\n",
       "    }\n",
       "</style>\n",
       "<table border=\"1\" class=\"dataframe\">\n",
       "  <thead>\n",
       "    <tr style=\"text-align: right;\">\n",
       "      <th></th>\n",
       "      <th>Team</th>\n",
       "      <th>ParkFactor</th>\n",
       "      <th>NormPF</th>\n",
       "      <th>Park Factor</th>\n",
       "      <th>NormPF_Savant</th>\n",
       "      <th>Diff</th>\n",
       "    </tr>\n",
       "  </thead>\n",
       "  <tbody>\n",
       "    <tr>\n",
       "      <th>6</th>\n",
       "      <td>KCR</td>\n",
       "      <td>-1.155961e-02</td>\n",
       "      <td>0.422748</td>\n",
       "      <td>106</td>\n",
       "      <td>0.65</td>\n",
       "      <td>22.725</td>\n",
       "    </tr>\n",
       "    <tr>\n",
       "      <th>15</th>\n",
       "      <td>ATL</td>\n",
       "      <td>-2.534309e-01</td>\n",
       "      <td>0.307929</td>\n",
       "      <td>103</td>\n",
       "      <td>0.50</td>\n",
       "      <td>19.207</td>\n",
       "    </tr>\n",
       "    <tr>\n",
       "      <th>13</th>\n",
       "      <td>WSN</td>\n",
       "      <td>-2.135783e-01</td>\n",
       "      <td>0.326847</td>\n",
       "      <td>103</td>\n",
       "      <td>0.50</td>\n",
       "      <td>17.315</td>\n",
       "    </tr>\n",
       "    <tr>\n",
       "      <th>23</th>\n",
       "      <td>HOU</td>\n",
       "      <td>-5.284907e-01</td>\n",
       "      <td>0.177354</td>\n",
       "      <td>100</td>\n",
       "      <td>0.35</td>\n",
       "      <td>17.265</td>\n",
       "    </tr>\n",
       "    <tr>\n",
       "      <th>8</th>\n",
       "      <td>PIT</td>\n",
       "      <td>-4.392779e-02</td>\n",
       "      <td>0.407383</td>\n",
       "      <td>98</td>\n",
       "      <td>0.25</td>\n",
       "      <td>15.738</td>\n",
       "    </tr>\n",
       "    <tr>\n",
       "      <th>12</th>\n",
       "      <td>STL</td>\n",
       "      <td>-1.708872e-01</td>\n",
       "      <td>0.347113</td>\n",
       "      <td>103</td>\n",
       "      <td>0.50</td>\n",
       "      <td>15.289</td>\n",
       "    </tr>\n",
       "    <tr>\n",
       "      <th>29</th>\n",
       "      <td>BAL</td>\n",
       "      <td>-9.020928e-01</td>\n",
       "      <td>0.000000</td>\n",
       "      <td>96</td>\n",
       "      <td>0.15</td>\n",
       "      <td>15.000</td>\n",
       "    </tr>\n",
       "    <tr>\n",
       "      <th>4</th>\n",
       "      <td>DET</td>\n",
       "      <td>2.104730e-02</td>\n",
       "      <td>0.438227</td>\n",
       "      <td>99</td>\n",
       "      <td>0.30</td>\n",
       "      <td>13.823</td>\n",
       "    </tr>\n",
       "    <tr>\n",
       "      <th>22</th>\n",
       "      <td>CLE</td>\n",
       "      <td>-5.176171e-01</td>\n",
       "      <td>0.182516</td>\n",
       "      <td>94</td>\n",
       "      <td>0.05</td>\n",
       "      <td>13.252</td>\n",
       "    </tr>\n",
       "    <tr>\n",
       "      <th>1</th>\n",
       "      <td>BOS</td>\n",
       "      <td>3.986622e-01</td>\n",
       "      <td>0.617486</td>\n",
       "      <td>108</td>\n",
       "      <td>0.75</td>\n",
       "      <td>13.251</td>\n",
       "    </tr>\n",
       "    <tr>\n",
       "      <th>5</th>\n",
       "      <td>CHW</td>\n",
       "      <td>7.113795e-16</td>\n",
       "      <td>0.428236</td>\n",
       "      <td>99</td>\n",
       "      <td>0.30</td>\n",
       "      <td>12.824</td>\n",
       "    </tr>\n",
       "    <tr>\n",
       "      <th>2</th>\n",
       "      <td>TEX</td>\n",
       "      <td>2.016823e-01</td>\n",
       "      <td>0.523977</td>\n",
       "      <td>106</td>\n",
       "      <td>0.65</td>\n",
       "      <td>12.602</td>\n",
       "    </tr>\n",
       "    <tr>\n",
       "      <th>24</th>\n",
       "      <td>TBR</td>\n",
       "      <td>-5.325301e-01</td>\n",
       "      <td>0.175436</td>\n",
       "      <td>98</td>\n",
       "      <td>0.25</td>\n",
       "      <td>7.456</td>\n",
       "    </tr>\n",
       "    <tr>\n",
       "      <th>27</th>\n",
       "      <td>OAK</td>\n",
       "      <td>-7.416717e-01</td>\n",
       "      <td>0.076154</td>\n",
       "      <td>96</td>\n",
       "      <td>0.15</td>\n",
       "      <td>7.385</td>\n",
       "    </tr>\n",
       "    <tr>\n",
       "      <th>9</th>\n",
       "      <td>PHI</td>\n",
       "      <td>-1.322856e-01</td>\n",
       "      <td>0.365438</td>\n",
       "      <td>99</td>\n",
       "      <td>0.30</td>\n",
       "      <td>6.544</td>\n",
       "    </tr>\n",
       "    <tr>\n",
       "      <th>19</th>\n",
       "      <td>ARI</td>\n",
       "      <td>-3.885817e-01</td>\n",
       "      <td>0.243771</td>\n",
       "      <td>99</td>\n",
       "      <td>0.30</td>\n",
       "      <td>5.623</td>\n",
       "    </tr>\n",
       "    <tr>\n",
       "      <th>26</th>\n",
       "      <td>SFG</td>\n",
       "      <td>-6.833259e-01</td>\n",
       "      <td>0.103852</td>\n",
       "      <td>94</td>\n",
       "      <td>0.05</td>\n",
       "      <td>5.385</td>\n",
       "    </tr>\n",
       "    <tr>\n",
       "      <th>16</th>\n",
       "      <td>MIN</td>\n",
       "      <td>-2.770620e-01</td>\n",
       "      <td>0.296711</td>\n",
       "      <td>100</td>\n",
       "      <td>0.35</td>\n",
       "      <td>5.329</td>\n",
       "    </tr>\n",
       "    <tr>\n",
       "      <th>10</th>\n",
       "      <td>MIA</td>\n",
       "      <td>-1.497579e-01</td>\n",
       "      <td>0.357144</td>\n",
       "      <td>101</td>\n",
       "      <td>0.40</td>\n",
       "      <td>4.286</td>\n",
       "    </tr>\n",
       "    <tr>\n",
       "      <th>3</th>\n",
       "      <td>CIN</td>\n",
       "      <td>1.333215e-01</td>\n",
       "      <td>0.491525</td>\n",
       "      <td>102</td>\n",
       "      <td>0.45</td>\n",
       "      <td>4.153</td>\n",
       "    </tr>\n",
       "    <tr>\n",
       "      <th>28</th>\n",
       "      <td>SEA</td>\n",
       "      <td>-8.158038e-01</td>\n",
       "      <td>0.040963</td>\n",
       "      <td>93</td>\n",
       "      <td>0.00</td>\n",
       "      <td>4.096</td>\n",
       "    </tr>\n",
       "    <tr>\n",
       "      <th>18</th>\n",
       "      <td>MIL</td>\n",
       "      <td>-3.184136e-01</td>\n",
       "      <td>0.277080</td>\n",
       "      <td>98</td>\n",
       "      <td>0.25</td>\n",
       "      <td>2.708</td>\n",
       "    </tr>\n",
       "    <tr>\n",
       "      <th>17</th>\n",
       "      <td>LAD</td>\n",
       "      <td>-3.173250e-01</td>\n",
       "      <td>0.277597</td>\n",
       "      <td>99</td>\n",
       "      <td>0.30</td>\n",
       "      <td>2.240</td>\n",
       "    </tr>\n",
       "    <tr>\n",
       "      <th>7</th>\n",
       "      <td>CHC</td>\n",
       "      <td>-1.660547e-02</td>\n",
       "      <td>0.420353</td>\n",
       "      <td>101</td>\n",
       "      <td>0.40</td>\n",
       "      <td>2.035</td>\n",
       "    </tr>\n",
       "    <tr>\n",
       "      <th>21</th>\n",
       "      <td>NYM</td>\n",
       "      <td>-5.133574e-01</td>\n",
       "      <td>0.184538</td>\n",
       "      <td>97</td>\n",
       "      <td>0.20</td>\n",
       "      <td>1.546</td>\n",
       "    </tr>\n",
       "    <tr>\n",
       "      <th>14</th>\n",
       "      <td>NYY</td>\n",
       "      <td>-2.424885e-01</td>\n",
       "      <td>0.313123</td>\n",
       "      <td>99</td>\n",
       "      <td>0.30</td>\n",
       "      <td>1.312</td>\n",
       "    </tr>\n",
       "    <tr>\n",
       "      <th>25</th>\n",
       "      <td>SDP</td>\n",
       "      <td>-6.134095e-01</td>\n",
       "      <td>0.137042</td>\n",
       "      <td>96</td>\n",
       "      <td>0.15</td>\n",
       "      <td>1.296</td>\n",
       "    </tr>\n",
       "    <tr>\n",
       "      <th>20</th>\n",
       "      <td>TOR</td>\n",
       "      <td>-4.754296e-01</td>\n",
       "      <td>0.202543</td>\n",
       "      <td>97</td>\n",
       "      <td>0.20</td>\n",
       "      <td>0.254</td>\n",
       "    </tr>\n",
       "    <tr>\n",
       "      <th>11</th>\n",
       "      <td>LAA</td>\n",
       "      <td>-1.633089e-01</td>\n",
       "      <td>0.350711</td>\n",
       "      <td>100</td>\n",
       "      <td>0.35</td>\n",
       "      <td>0.071</td>\n",
       "    </tr>\n",
       "    <tr>\n",
       "      <th>0</th>\n",
       "      <td>COL</td>\n",
       "      <td>1.204440e+00</td>\n",
       "      <td>1.000000</td>\n",
       "      <td>113</td>\n",
       "      <td>1.00</td>\n",
       "      <td>0.000</td>\n",
       "    </tr>\n",
       "  </tbody>\n",
       "</table>\n",
       "</div>"
      ],
      "text/plain": [
       "   Team    ParkFactor    NormPF  Park Factor  NormPF_Savant    Diff\n",
       "6   KCR -1.155961e-02  0.422748          106           0.65  22.725\n",
       "15  ATL -2.534309e-01  0.307929          103           0.50  19.207\n",
       "13  WSN -2.135783e-01  0.326847          103           0.50  17.315\n",
       "23  HOU -5.284907e-01  0.177354          100           0.35  17.265\n",
       "8   PIT -4.392779e-02  0.407383           98           0.25  15.738\n",
       "12  STL -1.708872e-01  0.347113          103           0.50  15.289\n",
       "29  BAL -9.020928e-01  0.000000           96           0.15  15.000\n",
       "4   DET  2.104730e-02  0.438227           99           0.30  13.823\n",
       "22  CLE -5.176171e-01  0.182516           94           0.05  13.252\n",
       "1   BOS  3.986622e-01  0.617486          108           0.75  13.251\n",
       "5   CHW  7.113795e-16  0.428236           99           0.30  12.824\n",
       "2   TEX  2.016823e-01  0.523977          106           0.65  12.602\n",
       "24  TBR -5.325301e-01  0.175436           98           0.25   7.456\n",
       "27  OAK -7.416717e-01  0.076154           96           0.15   7.385\n",
       "9   PHI -1.322856e-01  0.365438           99           0.30   6.544\n",
       "19  ARI -3.885817e-01  0.243771           99           0.30   5.623\n",
       "26  SFG -6.833259e-01  0.103852           94           0.05   5.385\n",
       "16  MIN -2.770620e-01  0.296711          100           0.35   5.329\n",
       "10  MIA -1.497579e-01  0.357144          101           0.40   4.286\n",
       "3   CIN  1.333215e-01  0.491525          102           0.45   4.153\n",
       "28  SEA -8.158038e-01  0.040963           93           0.00   4.096\n",
       "18  MIL -3.184136e-01  0.277080           98           0.25   2.708\n",
       "17  LAD -3.173250e-01  0.277597           99           0.30   2.240\n",
       "7   CHC -1.660547e-02  0.420353          101           0.40   2.035\n",
       "21  NYM -5.133574e-01  0.184538           97           0.20   1.546\n",
       "14  NYY -2.424885e-01  0.313123           99           0.30   1.312\n",
       "25  SDP -6.134095e-01  0.137042           96           0.15   1.296\n",
       "20  TOR -4.754296e-01  0.202543           97           0.20   0.254\n",
       "11  LAA -1.633089e-01  0.350711          100           0.35   0.071\n",
       "0   COL  1.204440e+00  1.000000          113           1.00   0.000"
      ]
     },
     "execution_count": 18,
     "metadata": {},
     "output_type": "execute_result"
    }
   ],
   "source": [
    "JoinPFs.sort_values(by='Diff', ascending=False)"
   ]
  },
  {
   "cell_type": "markdown",
   "metadata": {},
   "source": [
    "Adjusting Starting Pitchers ERAs for Difficulty and PF Score"
   ]
  },
  {
   "cell_type": "code",
   "execution_count": 10,
   "metadata": {},
   "outputs": [],
   "source": [
    "SPs = sql_query(SP_query) #SPs who threw at least 10 games in 2022 and 2023\n",
    "#phils_pitchers = sql_query(Phils_SP_query) #Phils Pitchers from 2022/2023 with >= 10 Games Started"
   ]
  },
  {
   "cell_type": "code",
   "execution_count": 11,
   "metadata": {},
   "outputs": [],
   "source": [
    "phils_pitchers = SPs[(SPs['Teams 2022'] == 'PHI') & (SPs['Teams 2023']=='PHI')]"
   ]
  },
  {
   "cell_type": "code",
   "execution_count": null,
   "metadata": {},
   "outputs": [
    {
     "name": "stdout",
     "output_type": "stream",
     "text": [
      "This Park Has Issues:  []\n"
     ]
    }
   ],
   "source": [
    "Names = []\n",
    "avg_diffs = []\n",
    "avg_norm_pf = []\n",
    "\n",
    "home_c_indx = gamelogs.shape[1] - 2\n",
    "vis_c_indx = gamelogs.shape[1] -1\n",
    "score_idx = gamelogs.shape[1]\n",
    "\n",
    "if 'Challenge Score' not in gamelogs:\n",
    "    gamelogs['Challenge Score'] = np.nan\n",
    "\n",
    "for pitcher in SPs['Full Name']:\n",
    "    pf = []\n",
    "    games_started = gamelogs[(gamelogs['Home SP'] == pitcher) | (gamelogs['Visiting SP'] == pitcher)].reset_index(drop=True)\n",
    "    for idx, game in games_started.iterrows():\n",
    "        if games_started.loc[idx,'Home SP'] == pitcher:\n",
    "            games_started.iloc[idx,score_idx] = games_started.loc[idx,'Home Challenge']\n",
    "        elif games_started.loc[idx,'Visiting SP'] == pitcher:\n",
    "            games_started.iloc[idx,score_idx] = games_started.loc[idx,'Visiting Challenge']\n",
    "        park_factor = df_park_factors['NormPF'][df_park_factors['Team'] == game['Home Team']].values\n",
    "        if len(park_factor) > 0:\n",
    "            pf.append(park_factor)\n",
    "        else:\n",
    "            print('This Park Has Issues: ',game['Home Team'])\n",
    "    avg_diff = np.mean(games_started['Challenge Score'])\n",
    "    avg_norm_pf.append(round(np.mean(pf),2))\n",
    "    Names.append(pitcher)\n",
    "    avg_diffs.append(round(avg_diff,2))\n",
    "\n",
    "Pitchers_2023 = pd.DataFrame({\n",
    "'Name': Names,\n",
    "'Avg Game Difficulty Score': avg_diffs,\n",
    "'2022/2023ERA': round((SPs[['ERA 2022','ERA 2023']]).mean(axis = 1),2),\n",
    "'PF_Norm': avg_norm_pf,\n",
    "'ERA Delta' : SPs['ERA CHANGE YOY']\n",
    "}).sort_values(by='Avg Game Difficulty Score', ascending= False)\n",
    "    "
   ]
  },
  {
   "cell_type": "code",
   "execution_count": null,
   "metadata": {},
   "outputs": [
    {
     "ename": "IndexError",
     "evalue": "iloc cannot enlarge its target object",
     "output_type": "error",
     "traceback": [
      "\u001b[1;31m---------------------------------------------------------------------------\u001b[0m",
      "\u001b[1;31mIndexError\u001b[0m                                Traceback (most recent call last)",
      "Cell \u001b[1;32mIn[17], line 24\u001b[0m\n\u001b[0;32m     21\u001b[0m \u001b[38;5;28;01mfor\u001b[39;00m idx, game \u001b[38;5;129;01min\u001b[39;00m games_started\u001b[38;5;241m.\u001b[39miterrows():\n\u001b[0;32m     22\u001b[0m     \u001b[38;5;66;03m# Assign challenge scores based on home/visiting team\u001b[39;00m\n\u001b[0;32m     23\u001b[0m     \u001b[38;5;28;01mif\u001b[39;00m games_started\u001b[38;5;241m.\u001b[39mloc[idx, \u001b[38;5;124m'\u001b[39m\u001b[38;5;124mHome SP\u001b[39m\u001b[38;5;124m'\u001b[39m] \u001b[38;5;241m==\u001b[39m pitcher:\n\u001b[1;32m---> 24\u001b[0m         games_started\u001b[38;5;241m.\u001b[39miloc[idx, score_idx] \u001b[38;5;241m=\u001b[39m games_started\u001b[38;5;241m.\u001b[39mloc[idx, \u001b[38;5;124m'\u001b[39m\u001b[38;5;124mHome Challenge\u001b[39m\u001b[38;5;124m'\u001b[39m]\n\u001b[0;32m     25\u001b[0m     \u001b[38;5;28;01melif\u001b[39;00m games_started\u001b[38;5;241m.\u001b[39mloc[idx, \u001b[38;5;124m'\u001b[39m\u001b[38;5;124mVisiting SP\u001b[39m\u001b[38;5;124m'\u001b[39m] \u001b[38;5;241m==\u001b[39m pitcher:\n\u001b[0;32m     26\u001b[0m         games_started\u001b[38;5;241m.\u001b[39miloc[idx, score_idx] \u001b[38;5;241m=\u001b[39m games_started\u001b[38;5;241m.\u001b[39mloc[idx, \u001b[38;5;124m'\u001b[39m\u001b[38;5;124mVisiting Challenge\u001b[39m\u001b[38;5;124m'\u001b[39m]\n",
      "File \u001b[1;32mc:\\Users\\conor\\anaconda3\\Lib\\site-packages\\pandas\\core\\indexing.py:882\u001b[0m, in \u001b[0;36m_LocationIndexer.__setitem__\u001b[1;34m(self, key, value)\u001b[0m\n\u001b[0;32m    880\u001b[0m     key \u001b[38;5;241m=\u001b[39m com\u001b[38;5;241m.\u001b[39mapply_if_callable(key, \u001b[38;5;28mself\u001b[39m\u001b[38;5;241m.\u001b[39mobj)\n\u001b[0;32m    881\u001b[0m indexer \u001b[38;5;241m=\u001b[39m \u001b[38;5;28mself\u001b[39m\u001b[38;5;241m.\u001b[39m_get_setitem_indexer(key)\n\u001b[1;32m--> 882\u001b[0m \u001b[38;5;28mself\u001b[39m\u001b[38;5;241m.\u001b[39m_has_valid_setitem_indexer(key)\n\u001b[0;32m    884\u001b[0m iloc \u001b[38;5;241m=\u001b[39m \u001b[38;5;28mself\u001b[39m \u001b[38;5;28;01mif\u001b[39;00m \u001b[38;5;28mself\u001b[39m\u001b[38;5;241m.\u001b[39mname \u001b[38;5;241m==\u001b[39m \u001b[38;5;124m\"\u001b[39m\u001b[38;5;124miloc\u001b[39m\u001b[38;5;124m\"\u001b[39m \u001b[38;5;28;01melse\u001b[39;00m \u001b[38;5;28mself\u001b[39m\u001b[38;5;241m.\u001b[39mobj\u001b[38;5;241m.\u001b[39miloc\n\u001b[0;32m    885\u001b[0m iloc\u001b[38;5;241m.\u001b[39m_setitem_with_indexer(indexer, value, \u001b[38;5;28mself\u001b[39m\u001b[38;5;241m.\u001b[39mname)\n",
      "File \u001b[1;32mc:\\Users\\conor\\anaconda3\\Lib\\site-packages\\pandas\\core\\indexing.py:1608\u001b[0m, in \u001b[0;36m_iLocIndexer._has_valid_setitem_indexer\u001b[1;34m(self, indexer)\u001b[0m\n\u001b[0;32m   1606\u001b[0m \u001b[38;5;28;01melif\u001b[39;00m is_integer(i):\n\u001b[0;32m   1607\u001b[0m     \u001b[38;5;28;01mif\u001b[39;00m i \u001b[38;5;241m>\u001b[39m\u001b[38;5;241m=\u001b[39m \u001b[38;5;28mlen\u001b[39m(ax):\n\u001b[1;32m-> 1608\u001b[0m         \u001b[38;5;28;01mraise\u001b[39;00m \u001b[38;5;167;01mIndexError\u001b[39;00m(\u001b[38;5;124m\"\u001b[39m\u001b[38;5;124miloc cannot enlarge its target object\u001b[39m\u001b[38;5;124m\"\u001b[39m)\n\u001b[0;32m   1609\u001b[0m \u001b[38;5;28;01melif\u001b[39;00m \u001b[38;5;28misinstance\u001b[39m(i, \u001b[38;5;28mdict\u001b[39m):\n\u001b[0;32m   1610\u001b[0m     \u001b[38;5;28;01mraise\u001b[39;00m \u001b[38;5;167;01mIndexError\u001b[39;00m(\u001b[38;5;124m\"\u001b[39m\u001b[38;5;124miloc cannot enlarge its target object\u001b[39m\u001b[38;5;124m\"\u001b[39m)\n",
      "\u001b[1;31mIndexError\u001b[0m: iloc cannot enlarge its target object"
     ]
    }
   ],
   "source": [
    "# Initialize lists to collect pitcher data\n",
    "Names = []\n",
    "avg_diffs_2022 = []\n",
    "avg_diffs_2023 = []\n",
    "avg_norm_pf_2022 = []\n",
    "avg_norm_pf_2023 = []\n",
    "\n",
    "# Add \"Challenge Score\" column if it doesn't already exist\n",
    "if 'Challenge Score' not in gamelogs:\n",
    "    gamelogs['Challenge Score'] = np.nan\n",
    "    home_c_indx = gamelogs.shape[1] - 2\n",
    "    vis_c_indx = gamelogs.shape[1] - 1\n",
    "    score_idx = gamelogs.shape[1]\n",
    "\n",
    "# Process each pitcher to calculate stats for 2022 and 2023 separately\n",
    "for pitcher in SPs['Full Name']:\n",
    "    pf_2022, pf_2023 = [], []\n",
    "    games_started = gamelogs[(gamelogs['Home SP'] == pitcher) | (gamelogs['Visiting SP'] == pitcher)].reset_index(drop=True)\n",
    "    \n",
    "    for idx, game in games_started.iterrows():\n",
    "        # Assign challenge scores based on home/visiting team\n",
    "        if games_started.loc[idx, 'Home SP'] == pitcher:\n",
    "            games_started.iloc[idx, score_idx] = games_started.loc[idx, 'Home Challenge']\n",
    "        elif games_started.loc[idx, 'Visiting SP'] == pitcher:\n",
    "            games_started.iloc[idx, score_idx] = games_started.loc[idx, 'Visiting Challenge']\n",
    "        \n",
    "        # Get park factor based on the home team\n",
    "        park_factor = df_park_factors['NormPF'][df_park_factors['Team'] == game['Home Team']].values\n",
    "        if len(park_factor) > 0:\n",
    "            if game['Year'] == 2022:\n",
    "                pf_2022.append(park_factor)\n",
    "            elif game['Year'] == 2023:\n",
    "                pf_2023.append(park_factor)\n",
    "        else:\n",
    "            print('This Park Has Issues: ', game['Home Team'])\n",
    "    \n",
    "    # Calculate averages for 2022\n",
    "    games_2022 = games_started[games_started['Year'] == 2022]\n",
    "    avg_diff_2022 = np.mean(games_2022['Challenge Score']) if not games_2022.empty else 0\n",
    "    avg_norm_pf_2022.append(round(np.mean(pf_2022), 2) if pf_2022 else 0)\n",
    "\n",
    "    # Calculate averages for 2023\n",
    "    games_2023 = games_started[games_started['Year'] == 2023]\n",
    "    avg_diff_2023 = np.mean(games_2023['Challenge Score']) if not games_2023.empty else 0\n",
    "    avg_norm_pf_2023.append(round(np.mean(pf_2023), 2) if pf_2023 else 0)\n",
    "\n",
    "    # Append final results\n",
    "    Names.append(pitcher)\n",
    "    avg_diffs_2022.append(round(avg_diff_2022, 2))\n",
    "    avg_diffs_2023.append(round(avg_diff_2023, 2))\n",
    "\n",
    "# Create the final DataFrame with separate columns for 2022 and 2023\n",
    "Pitchers_2023 = pd.DataFrame({\n",
    "    'Name': Names,\n",
    "    'Avg Game Difficulty Score 2022': avg_diffs_2022,\n",
    "    'Avg Game Difficulty Score 2023': avg_diffs_2023,\n",
    "    '2022 ERA': SPs['ERA 2022'],\n",
    "    '2023 ERA': SPs['ERA 2023'],\n",
    "    'PF_Norm 2022': avg_norm_pf_2022,\n",
    "    'PF_Norm 2023': avg_norm_pf_2023,\n",
    "    'ERA Delta': SPs['ERA CHANGE YOY']\n",
    "}).sort_values(by='Avg Game Difficulty Score 2023', ascending=False)\n",
    "\n",
    "print(Pitchers_2023)\n"
   ]
  },
  {
   "cell_type": "code",
   "execution_count": 16,
   "metadata": {},
   "outputs": [],
   "source": [
    "games_started['Date'] = pd.to_datetime(games_started['Date'], format = '%Y%m%d')"
   ]
  },
  {
   "cell_type": "code",
   "execution_count": 15,
   "metadata": {},
   "outputs": [
    {
     "data": {
      "application/vnd.microsoft.datawrangler.viewer.v0+json": {
       "columns": [
        {
         "name": "index",
         "rawType": "int64",
         "type": "integer"
        },
        {
         "name": "Name",
         "rawType": "object",
         "type": "string"
        },
        {
         "name": "Avg Game Difficulty Score",
         "rawType": "float64",
         "type": "float"
        },
        {
         "name": "2022/2023ERA",
         "rawType": "float64",
         "type": "float"
        },
        {
         "name": "PF_Norm",
         "rawType": "float64",
         "type": "float"
        }
       ],
       "conversionMethod": "pd.DataFrame",
       "ref": "0348da66-005b-4560-8e12-2fd62dda4206",
       "rows": [
        [
         "106",
         "Ranger Suarez",
         "4.54",
         "3.92",
         "0.34"
        ],
        [
         "82",
         "Aaron Nola",
         "4.47",
         "3.86",
         "0.35"
        ],
        [
         "119",
         "Zack Wheeler",
         "4.43",
         "3.22",
         "0.33"
        ]
       ],
       "shape": {
        "columns": 4,
        "rows": 3
       }
      },
      "text/html": [
       "<div>\n",
       "<style scoped>\n",
       "    .dataframe tbody tr th:only-of-type {\n",
       "        vertical-align: middle;\n",
       "    }\n",
       "\n",
       "    .dataframe tbody tr th {\n",
       "        vertical-align: top;\n",
       "    }\n",
       "\n",
       "    .dataframe thead th {\n",
       "        text-align: right;\n",
       "    }\n",
       "</style>\n",
       "<table border=\"1\" class=\"dataframe\">\n",
       "  <thead>\n",
       "    <tr style=\"text-align: right;\">\n",
       "      <th></th>\n",
       "      <th>Name</th>\n",
       "      <th>Avg Game Difficulty Score</th>\n",
       "      <th>2022/2023ERA</th>\n",
       "      <th>PF_Norm</th>\n",
       "    </tr>\n",
       "  </thead>\n",
       "  <tbody>\n",
       "    <tr>\n",
       "      <th>106</th>\n",
       "      <td>Ranger Suarez</td>\n",
       "      <td>4.54</td>\n",
       "      <td>3.92</td>\n",
       "      <td>0.34</td>\n",
       "    </tr>\n",
       "    <tr>\n",
       "      <th>82</th>\n",
       "      <td>Aaron Nola</td>\n",
       "      <td>4.47</td>\n",
       "      <td>3.86</td>\n",
       "      <td>0.35</td>\n",
       "    </tr>\n",
       "    <tr>\n",
       "      <th>119</th>\n",
       "      <td>Zack Wheeler</td>\n",
       "      <td>4.43</td>\n",
       "      <td>3.22</td>\n",
       "      <td>0.33</td>\n",
       "    </tr>\n",
       "  </tbody>\n",
       "</table>\n",
       "</div>"
      ],
      "text/plain": [
       "              Name  Avg Game Difficulty Score  2022/2023ERA  PF_Norm\n",
       "106  Ranger Suarez                       4.54          3.92     0.34\n",
       "82      Aaron Nola                       4.47          3.86     0.35\n",
       "119   Zack Wheeler                       4.43          3.22     0.33"
      ]
     },
     "execution_count": 15,
     "metadata": {},
     "output_type": "execute_result"
    }
   ],
   "source": [
    "Pitchers_2023.head(25)"
   ]
  },
  {
   "cell_type": "code",
   "execution_count": 102,
   "metadata": {},
   "outputs": [
    {
     "data": {
      "text/plain": [
       "(array([1., 2., 3., 4., 5., 6., 7., 8.]),\n",
       " [Text(0, 1.0, '1'),\n",
       "  Text(0, 2.0, '2'),\n",
       "  Text(0, 3.0, '3'),\n",
       "  Text(0, 4.0, '4'),\n",
       "  Text(0, 5.0, '5'),\n",
       "  Text(0, 6.0, '6'),\n",
       "  Text(0, 7.0, '7'),\n",
       "  Text(0, 8.0, '8')])"
      ]
     },
     "execution_count": 102,
     "metadata": {},
     "output_type": "execute_result"
    },
    {
     "data": {
      "image/png": "[encoded data removed]",
      "text/plain": [
       "<Figure size 1000x600 with 1 Axes>"
      ]
     },
     "metadata": {},
     "output_type": "display_data"
    }
   ],
   "source": [
    "plt.figure(figsize=(10, 6))\n",
    "plt.scatter(Pitchers_2023['PF_Norm'],Pitchers_2023['2022ERA'])\n",
    "plt.title('ERA vs PF', fontsize=20, fontweight='bold')\n",
    "plt.xlabel('Normal Park Factor', fontsize=14,fontweight='bold')\n",
    "plt.ylabel('ERA', fontsize=14,fontweight='bold')\n",
    "plt.xticks(fontsize=12)\n",
    "plt.yticks(fontsize=12)"
   ]
  },
  {
   "cell_type": "code",
   "execution_count": 104,
   "metadata": {},
   "outputs": [
    {
     "name": "stderr",
     "output_type": "stream",
     "text": [
      "c:\\Users\\conor\\anaconda3\\Lib\\site-packages\\seaborn\\_oldcore.py:1498: FutureWarning: is_categorical_dtype is deprecated and will be removed in a future version. Use isinstance(dtype, CategoricalDtype) instead\n",
      "  if pd.api.types.is_categorical_dtype(vector):\n",
      "c:\\Users\\conor\\anaconda3\\Lib\\site-packages\\seaborn\\_oldcore.py:1498: FutureWarning: is_categorical_dtype is deprecated and will be removed in a future version. Use isinstance(dtype, CategoricalDtype) instead\n",
      "  if pd.api.types.is_categorical_dtype(vector):\n",
      "c:\\Users\\conor\\anaconda3\\Lib\\site-packages\\seaborn\\_oldcore.py:1498: FutureWarning: is_categorical_dtype is deprecated and will be removed in a future version. Use isinstance(dtype, CategoricalDtype) instead\n",
      "  if pd.api.types.is_categorical_dtype(vector):\n",
      "c:\\Users\\conor\\anaconda3\\Lib\\site-packages\\seaborn\\_oldcore.py:1498: FutureWarning: is_categorical_dtype is deprecated and will be removed in a future version. Use isinstance(dtype, CategoricalDtype) instead\n",
      "  if pd.api.types.is_categorical_dtype(vector):\n",
      "c:\\Users\\conor\\anaconda3\\Lib\\site-packages\\seaborn\\_oldcore.py:1119: FutureWarning: use_inf_as_na option is deprecated and will be removed in a future version. Convert inf values to NaN before operating instead.\n",
      "  with pd.option_context('mode.use_inf_as_na', True):\n",
      "c:\\Users\\conor\\anaconda3\\Lib\\site-packages\\seaborn\\_oldcore.py:1498: FutureWarning: is_categorical_dtype is deprecated and will be removed in a future version. Use isinstance(dtype, CategoricalDtype) instead\n",
      "  if pd.api.types.is_categorical_dtype(vector):\n",
      "c:\\Users\\conor\\anaconda3\\Lib\\site-packages\\seaborn\\_oldcore.py:1119: FutureWarning: use_inf_as_na option is deprecated and will be removed in a future version. Convert inf values to NaN before operating instead.\n",
      "  with pd.option_context('mode.use_inf_as_na', True):\n",
      "c:\\Users\\conor\\anaconda3\\Lib\\site-packages\\seaborn\\_oldcore.py:1498: FutureWarning: is_categorical_dtype is deprecated and will be removed in a future version. Use isinstance(dtype, CategoricalDtype) instead\n",
      "  if pd.api.types.is_categorical_dtype(vector):\n",
      "c:\\Users\\conor\\anaconda3\\Lib\\site-packages\\seaborn\\_oldcore.py:1119: FutureWarning: use_inf_as_na option is deprecated and will be removed in a future version. Convert inf values to NaN before operating instead.\n",
      "  with pd.option_context('mode.use_inf_as_na', True):\n",
      "c:\\Users\\conor\\anaconda3\\Lib\\site-packages\\seaborn\\_oldcore.py:1498: FutureWarning: is_categorical_dtype is deprecated and will be removed in a future version. Use isinstance(dtype, CategoricalDtype) instead\n",
      "  if pd.api.types.is_categorical_dtype(vector):\n",
      "c:\\Users\\conor\\anaconda3\\Lib\\site-packages\\seaborn\\_oldcore.py:1498: FutureWarning: is_categorical_dtype is deprecated and will be removed in a future version. Use isinstance(dtype, CategoricalDtype) instead\n",
      "  if pd.api.types.is_categorical_dtype(vector):\n",
      "c:\\Users\\conor\\anaconda3\\Lib\\site-packages\\seaborn\\_oldcore.py:1498: FutureWarning: is_categorical_dtype is deprecated and will be removed in a future version. Use isinstance(dtype, CategoricalDtype) instead\n",
      "  if pd.api.types.is_categorical_dtype(vector):\n",
      "c:\\Users\\conor\\anaconda3\\Lib\\site-packages\\seaborn\\_oldcore.py:1498: FutureWarning: is_categorical_dtype is deprecated and will be removed in a future version. Use isinstance(dtype, CategoricalDtype) instead\n",
      "  if pd.api.types.is_categorical_dtype(vector):\n",
      "c:\\Users\\conor\\anaconda3\\Lib\\site-packages\\seaborn\\_oldcore.py:1498: FutureWarning: is_categorical_dtype is deprecated and will be removed in a future version. Use isinstance(dtype, CategoricalDtype) instead\n",
      "  if pd.api.types.is_categorical_dtype(vector):\n",
      "c:\\Users\\conor\\anaconda3\\Lib\\site-packages\\seaborn\\_oldcore.py:1498: FutureWarning: is_categorical_dtype is deprecated and will be removed in a future version. Use isinstance(dtype, CategoricalDtype) instead\n",
      "  if pd.api.types.is_categorical_dtype(vector):\n",
      "c:\\Users\\conor\\anaconda3\\Lib\\site-packages\\seaborn\\_oldcore.py:1498: FutureWarning: is_categorical_dtype is deprecated and will be removed in a future version. Use isinstance(dtype, CategoricalDtype) instead\n",
      "  if pd.api.types.is_categorical_dtype(vector):\n",
      "c:\\Users\\conor\\anaconda3\\Lib\\site-packages\\seaborn\\_oldcore.py:1498: FutureWarning: is_categorical_dtype is deprecated and will be removed in a future version. Use isinstance(dtype, CategoricalDtype) instead\n",
      "  if pd.api.types.is_categorical_dtype(vector):\n",
      "c:\\Users\\conor\\anaconda3\\Lib\\site-packages\\seaborn\\_oldcore.py:1498: FutureWarning: is_categorical_dtype is deprecated and will be removed in a future version. Use isinstance(dtype, CategoricalDtype) instead\n",
      "  if pd.api.types.is_categorical_dtype(vector):\n",
      "c:\\Users\\conor\\anaconda3\\Lib\\site-packages\\seaborn\\_oldcore.py:1498: FutureWarning: is_categorical_dtype is deprecated and will be removed in a future version. Use isinstance(dtype, CategoricalDtype) instead\n",
      "  if pd.api.types.is_categorical_dtype(vector):\n",
      "c:\\Users\\conor\\anaconda3\\Lib\\site-packages\\seaborn\\_oldcore.py:1498: FutureWarning: is_categorical_dtype is deprecated and will be removed in a future version. Use isinstance(dtype, CategoricalDtype) instead\n",
      "  if pd.api.types.is_categorical_dtype(vector):\n",
      "c:\\Users\\conor\\anaconda3\\Lib\\site-packages\\seaborn\\_oldcore.py:1498: FutureWarning: is_categorical_dtype is deprecated and will be removed in a future version. Use isinstance(dtype, CategoricalDtype) instead\n",
      "  if pd.api.types.is_categorical_dtype(vector):\n",
      "c:\\Users\\conor\\anaconda3\\Lib\\site-packages\\seaborn\\axisgrid.py:118: UserWarning: The figure layout has changed to tight\n",
      "  self._figure.tight_layout(*args, **kwargs)\n"
     ]
    },
    {
     "data": {
      "text/plain": [
       "<seaborn.axisgrid.PairGrid at 0x208859004d0>"
      ]
     },
     "execution_count": 104,
     "metadata": {},
     "output_type": "execute_result"
    },
    {
     "data": {
      "image/png": "[encoded data removed]",
      "text/plain": [
       "<Figure size 750x750 with 12 Axes>"
      ]
     },
     "metadata": {},
     "output_type": "display_data"
    }
   ],
   "source": [
    "sns.pairplot(Pitchers_2023[['2022ERA','PF_Norm','Avg Game Difficulty Score']])"
   ]
  },
  {
   "cell_type": "code",
   "execution_count": 105,
   "metadata": {},
   "outputs": [],
   "source": [
    "Pitchers_2023.reset_index(drop=True, inplace=True)\n",
    "X_train, X_test, y_train, y_test = train_test_split(Pitchers_2023[['PF_Norm','Avg Game Difficulty Score']], Pitchers_2023['2022ERA'], test_size=0.2, random_state=42)\n",
    "X_train = X_train.to_numpy()\n",
    "X_test =X_test.to_numpy()\n",
    "y_train = y_train.to_numpy()\n",
    "y_test = y_test.to_numpy()"
   ]
  },
  {
   "cell_type": "code",
   "execution_count": 106,
   "metadata": {},
   "outputs": [],
   "source": [
    "inputs = tf.keras.Input(shape=(2,))\n",
    "dense = tf.keras.layers.Dense(64, activation=\"relu\")\n",
    "x = dense(inputs)\n",
    "x = tf.keras.layers.Dense(64, activation=\"relu\")(x)\n",
    "outputs = tf.keras.layers.Dense(1)(x)\n",
    "model = tf.keras.Model(inputs=inputs, outputs=outputs, name=\"ERA_P\")\n",
    "# model = Sequential([\n",
    "#     tf.keras.layers.Dense(52, activation='relu')(inputs), \n",
    "#     tf.keras.layers.Dense(52, activation='relu'), \n",
    "#     tf.keras.layers.Dense(1, activation='linear'),  \n",
    "# ])"
   ]
  },
  {
   "cell_type": "code",
   "execution_count": 107,
   "metadata": {},
   "outputs": [],
   "source": [
    "model.compile(optimizer='adam',\n",
    "               loss='mse',\n",
    "               metrics= ['mae','mse'])\n",
    "\n",
    "early_stopping = tf.keras.callbacks.EarlyStopping(monitor='val_loss', patience=20)"
   ]
  },
  {
   "cell_type": "code",
   "execution_count": 108,
   "metadata": {},
   "outputs": [],
   "source": [
    "history = model.fit(X_train, y_train, epochs=200, validation_split=0.2, verbose=0, callbacks=[early_stopping])"
   ]
  },
  {
   "cell_type": "code",
   "execution_count": 109,
   "metadata": {},
   "outputs": [
    {
     "name": "stdout",
     "output_type": "stream",
     "text": [
      "1/1 - 0s - 73ms/step - loss: 0.8032 - mae: 0.7197 - mse: 0.8032\n"
     ]
    }
   ],
   "source": [
    "test_scores = model.evaluate(X_test, y_test, verbose=2)"
   ]
  },
  {
   "cell_type": "code",
   "execution_count": 110,
   "metadata": {},
   "outputs": [
    {
     "data": {
      "text/plain": [
       "array([[0.29, 4.44]])"
      ]
     },
     "execution_count": 110,
     "metadata": {},
     "output_type": "execute_result"
    }
   ],
   "source": [
    "X_train[0].reshape(1,-1)"
   ]
  },
  {
   "cell_type": "code",
   "execution_count": 111,
   "metadata": {},
   "outputs": [
    {
     "ename": "NameError",
     "evalue": "name 'random' is not defined",
     "output_type": "error",
     "traceback": [
      "\u001b[1;31m---------------------------------------------------------------------------\u001b[0m",
      "\u001b[1;31mNameError\u001b[0m                                 Traceback (most recent call last)",
      "Cell \u001b[1;32mIn[111], line 1\u001b[0m\n\u001b[1;32m----> 1\u001b[0m rand_int \u001b[38;5;241m=\u001b[39m random\u001b[38;5;241m.\u001b[39mranint(\u001b[38;5;28mrange\u001b[39m(\u001b[38;5;28mlen\u001b[39m(X_test)))\n\u001b[0;32m      2\u001b[0m single_sample \u001b[38;5;241m=\u001b[39m np\u001b[38;5;241m.\u001b[39marray([X_test[rand_int]])\u001b[38;5;241m.\u001b[39mreshape(\u001b[38;5;241m1\u001b[39m, \u001b[38;5;241m-\u001b[39m\u001b[38;5;241m1\u001b[39m)\n\u001b[0;32m      3\u001b[0m single_prediction \u001b[38;5;241m=\u001b[39m model\u001b[38;5;241m.\u001b[39mpredict(single_sample)\n",
      "\u001b[1;31mNameError\u001b[0m: name 'random' is not defined"
     ]
    }
   ],
   "source": [
    "rand_int = random.ranint(range(len(X_test)))\n",
    "single_sample = np.array([X_test[rand_int]]).reshape(1, -1)\n",
    "single_prediction = model.predict(single_sample)\n",
    "print(single_prediction)"
   ]
  },
  {
   "cell_type": "code",
   "execution_count": null,
   "metadata": {},
   "outputs": [],
   "source": [
    "model.predict(X_test)"
   ]
  }
 ],
 "metadata": {
  "kernelspec": {
   "display_name": "base",
   "language": "python",
   "name": "python3"
  },
  "language_info": {
   "codemirror_mode": {
    "name": "ipython",
    "version": 3
   },
   "file_extension": ".py",
   "mimetype": "text/x-python",
   "name": "python",
   "nbconvert_exporter": "python",
   "pygments_lexer": "ipython3",
   "version": "3.11.5"
  }
 },
 "nbformat": 4,
 "nbformat_minor": 2
}

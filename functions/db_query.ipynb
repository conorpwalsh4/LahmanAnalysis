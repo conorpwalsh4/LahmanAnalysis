{
 "cells": [
  {
   "cell_type": "code",
   "execution_count": 3,
   "metadata": {},
   "outputs": [],
   "source": [
    "import psycopg2 as pg\n",
    "import pandas as pd\n",
    "def sql_query(query: str):\n",
    "    with pg.connect(host='localhost', port=5432, dbname='LahmanDataBase', user='postgres') as connection:\n",
    "        cursor = connection.cursor()\n",
    "        cursor.execute(query)\n",
    "        rows=cursor.fetchall()\n",
    "        columns = [column[0] for column in cursor.description]\n",
    "        resulting_df = pd.DataFrame(rows, columns=columns)\n",
    "    \n",
    "    return resulting_df"
   ]
  },
  {
   "cell_type": "code",
   "execution_count": 46,
   "metadata": {},
   "outputs": [],
   "source": [
    "pitching_query = '''\n",
    "            SELECT p.playerid as \"player\",\n",
    "                sum(p.ER) AS \"earned_runs\",\n",
    "                sum(p.IPouts) / 3 AS \"innings_pitched\",\n",
    "                sum(p.H) AS \"H_P\",\n",
    "                sum(p.SO) AS \"SO_P\",\n",
    "                sum(p.ERA) AS \"ERA\",\n",
    "                sum(p.BFP) AS \"batters_faced\",\n",
    "                sum(p.BAOpp) AS \"Opp_BA\",\n",
    "                sum(p.BB) AS \"BB_P\",\n",
    "                sum(p.HR) AS \"HR_P\",\n",
    "                sum(p.HBP) AS \"HBP_P\",\n",
    "                sum(p.G) AS \"G_P\",\n",
    "                p.yearID AS \"year\"\n",
    "                \n",
    "                FROM pitching as p\n",
    "\n",
    "                INNER JOIN people as peo ON p.playerID = peo.playerID\n",
    "                \n",
    "                WHERE p.yearID > 2020 and p.teamID = 'PHI'\n",
    "\n",
    "                GROUP BY p.playerid, p.yearID, peo.nameFirst, peo.nameLast\n",
    "\n",
    "                ORDER BY innings_pitched DESC\n",
    "                \n",
    "                LIMIT 5;\n",
    "'''"
   ]
  },
  {
   "cell_type": "code",
   "execution_count": 47,
   "metadata": {},
   "outputs": [],
   "source": [
    "batting_query = '''\n",
    "            SELECT peo.nameFirst as \"First Name\",\n",
    "                peo.nameLast as \"Last Name\",\n",
    "                b.playerid as \"player\",\n",
    "                sum(b.H) AS \"H\",\n",
    "                sum(b.SO) AS \"SO\",\n",
    "                sum(b.H - (b.H2B + b.H3B + b.HR)) AS \"singles\",\n",
    "                sum(b.H2B) AS \"doubles\",\n",
    "                sum(b.H3B) AS \"triples\",\n",
    "                sum(b.HR) AS \"HR\",\n",
    "                sum(b.AB) AS \"AB\",\n",
    "                sum(b.BB) AS \"BB\",\n",
    "                sum(b.HBP) AS \"HBP\",\n",
    "                sum(b.SF) AS \"SF\",\n",
    "                sum(b.G) AS \"G\",\n",
    "                b.yearID AS \"year\"\n",
    "                \n",
    "                FROM batting as b\n",
    "\n",
    "                INNER JOIN people as peo ON b.playerID = peo.playerID\n",
    "                \n",
    "                WHERE b.yearID > 2020 and b.teamID = 'PHI' and b.AB > 100\n",
    "\n",
    "                GROUP BY b.playerid, b.yearID, peo.nameFirst, peo.nameLast\n",
    "\n",
    "                ORDER BY triples DESC\n",
    "                \n",
    "                LIMIT 5;         \n",
    "                '''"
   ]
  }
 ],
 "metadata": {
  "kernelspec": {
   "display_name": "base",
   "language": "python",
   "name": "python3"
  },
  "language_info": {
   "codemirror_mode": {
    "name": "ipython",
    "version": 3
   },
   "file_extension": ".py",
   "mimetype": "text/x-python",
   "name": "python",
   "nbconvert_exporter": "python",
   "pygments_lexer": "ipython3",
   "version": "3.11.5"
  }
 },
 "nbformat": 4,
 "nbformat_minor": 2
}
